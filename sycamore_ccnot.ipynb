{
 "cells": [
  {
   "cell_type": "markdown",
   "metadata": {},
   "source": [
    "## Suppose the Google Sycamore gate is the 2-qubit gate in your gate-set. How many Sycamore gates would it take to implement a CCNOT gate?"
   ]
  },
  {
   "cell_type": "code",
   "execution_count": 125,
   "metadata": {},
   "outputs": [],
   "source": [
    "import qiskit\n",
    "import numpy as np"
   ]
  },
  {
   "cell_type": "markdown",
   "metadata": {},
   "source": [
    "We will start by defining the Sycamore gate and CCNOT gate:\n",
    "Sycamore:\n",
    "\n",
    "\n",
    "|   1     0     0    0   |\n",
    "\n",
    "|   0     0    -i    0   |\n",
    "\n",
    "|   0    -i     0    0   |\n",
    "\n",
    "|   0     0     0    e^(-i*pi/6)|\n",
    "\n",
    "CCNOT:\n",
    "\n",
    "|1 0 0 0 0 0 0 0|\n",
    "\n",
    "|0 1 0 0 0 0 0 0|\n",
    "\n",
    "|0 0 1 0 0 0 0 0|\n",
    "\n",
    "|0 0 0 1 0 0 0 0|\n",
    "\n",
    "|0 0 0 0 1 0 0 0|\n",
    "\n",
    "|0 0 0 0 0 1 0 0|\n",
    "\n",
    "|0 0 0 0 0 0 0 1|\n",
    "\n",
    "|0 0 0 0 0 0 1 0|\n",
    "\n",
    "So our objective is to create a circuit that starts with the Sycamore gate, and uses that (as well as other 1 qubit gates) to end up with the CCNOT gate. To do this, we need to start by creating the Sycamore gate in qiskit:"
   ]
  },
  {
   "cell_type": "code",
   "execution_count": 81,
   "metadata": {},
   "outputs": [
    {
     "name": "stdout",
     "output_type": "stream",
     "text": [
      "     ┌───┐     ┌─────────┐┌───┐          \n",
      "q_0: ┤ X ├──■──┤ P(3π/2) ├┤ X ├─■────────\n",
      "     └─┬─┘┌─┴─┐└─────────┘└─┬─┘ │P(-π/6) \n",
      "q_1: ──■──┤ X ├─────────────■───■────────\n",
      "          └───┘                          \n",
      "Operator([[ 1.   +0.j ,  0.   +0.j ,  0.   +0.j ,  0.   +0.j ],\n",
      "          [ 0.   -0.j ,  0.   -0.j , -0.   -1.j ,  0.   -0.j ],\n",
      "          [ 0.   -0.j , -0.   -1.j ,  0.   -0.j ,  0.   -0.j ],\n",
      "          [ 0.   +0.j ,  0.   +0.j ,  0.   +0.j ,  0.866-0.5j]],\n",
      "         input_dims=(2, 2), output_dims=(2, 2))\n"
     ]
    }
   ],
   "source": [
    "\n",
    "backend = qiskit.Aer.get_backend('unitary_simulator')\n",
    "\n",
    "circ = qiskit.QuantumCircuit(2)\n",
    "circ.cx(1,0)\n",
    "circ.cx(0,1)\n",
    "circ.p((3*np.pi)/2, 0)\n",
    "circ.cx(1,0)\n",
    "circ.cp((-1*np.pi)/6, 0 ,1)\n",
    "\n",
    "sycamore = circ.to_instruction(None, \"Sycamore\")\n",
    "\n",
    "\n",
    "print(circ)\n",
    "\n",
    "job = qiskit.execute(circ, backend, shots=8192)\n",
    "result = job.result()\n",
    "\n",
    "print(result.get_unitary(circ,3))"
   ]
  },
  {
   "cell_type": "markdown",
   "metadata": {},
   "source": [
    "As you can see from the matrix above, we have successfully created the sycamore gate. Now, we need to use the Sycamore gate to create a more familiar 2-qubit gate, the CNOT gate, so that we can use it implement a CCNOT gate:"
   ]
  },
  {
   "cell_type": "code",
   "execution_count": 118,
   "metadata": {},
   "outputs": [
    {
     "name": "stdout",
     "output_type": "stream",
     "text": [
      "     ┌───┐┌───────────┐┌───────────┐┌───────────┐┌───────────┐┌───────────┐»\n",
      "q_0: ┤ H ├┤0          ├┤0          ├┤0          ├┤0          ├┤0          ├»\n",
      "     └───┘│  Sycamore ││  Sycamore ││  Sycamore ││  Sycamore ││  Sycamore │»\n",
      "q_1: ─────┤1          ├┤1          ├┤1          ├┤1          ├┤1          ├»\n",
      "          └───────────┘└───────────┘└───────────┘└───────────┘└───────────┘»\n",
      "«     ┌───────────┐┌───┐┌───┐\n",
      "«q_0: ┤0          ├┤ Z ├┤ H ├\n",
      "«     │  Sycamore │├───┤└───┘\n",
      "«q_1: ┤1          ├┤ Z ├─────\n",
      "«     └───────────┘└───┘     \n",
      "Operator([[ 1.-0.j,  0.+0.j,  0.+0.j,  0.+0.j],\n",
      "          [ 0.+0.j,  1.-0.j,  0.+0.j,  0.+0.j],\n",
      "          [-0.+0.j, -0.+0.j,  0.-0.j,  1.-0.j],\n",
      "          [-0.+0.j, -0.+0.j,  1.-0.j,  0.-0.j]],\n",
      "         input_dims=(2, 2), output_dims=(2, 2))\n"
     ]
    }
   ],
   "source": [
    "cnot = qiskit.QuantumCircuit(2)\n",
    "cnot.h(0)\n",
    "cnot.append(sycamore, [0,1])\n",
    "cnot.append(sycamore, [0,1])\n",
    "cnot.append(sycamore, [0,1])\n",
    "cnot.append(sycamore, [0,1])\n",
    "cnot.append(sycamore, [0,1])\n",
    "cnot.append(sycamore, [0,1])\n",
    "cnot.z([0,1])\n",
    "cnot.h(0)\n",
    "\n",
    "syc_cnot = cnot.to_instruction(None, \"SCN\")\n",
    "\n",
    "print(cnot)\n",
    "\n",
    "job = qiskit.execute(cnot, backend, shots=8192)\n",
    "result = job.result()\n",
    "\n",
    "print(result.get_unitary(cnot,3))"
   ]
  },
  {
   "cell_type": "markdown",
   "metadata": {},
   "source": [
    "We can now see that 6 sycamore gates can be used to create a CNOT gate. Finally, we can now use these 6 sycamore gate CNOT's to create a CCNOT gate, following the CCNOT decomposition found here: https://www.semanticscholar.org/paper/On-the-CNOT-cost-of-TOFFOLI-gates-Shende-Markov/c7011bd2c3eb2dbd4e8879ffb9803dc221c17c09"
   ]
  },
  {
   "cell_type": "code",
   "execution_count": 124,
   "metadata": {},
   "outputs": [
    {
     "name": "stdout",
     "output_type": "stream",
     "text": [
      "     ┌───┐┌──────┐┌─────┐┌──────┐┌───┐┌──────┐┌─────┐ ░ ┌──────┐┌───┐ ┌───┐  »\n",
      "q_0: ┤ H ├┤0     ├┤ Tdg ├┤0     ├┤ T ├┤0     ├┤ Tdg ├─░─┤0     ├┤ T ├─┤ H ├──»\n",
      "     └───┘│  SCN │└─────┘│      │└───┘│  SCN │└─────┘ ░ │      │├───┤┌┴───┴─┐»\n",
      "q_1: ─────┤1     ├───────┤  SCN ├─────┤1     ├────────░─┤  SCN ├┤ T ├┤0     ├»\n",
      "          └──────┘       │      │     └──────┘        ░ │      │└───┘│  SCN │»\n",
      "q_2: ────────────────────┤1     ├─────────────────────░─┤1     ├─────┤1     ├»\n",
      "                         └──────┘                     ░ └──────┘     └──────┘»\n",
      "«                    \n",
      "«q_0: ───────────────\n",
      "«     ┌─────┐┌──────┐\n",
      "«q_1: ┤ Tdg ├┤0     ├\n",
      "«     └┬───┬┘│  SCN │\n",
      "«q_2: ─┤ T ├─┤1     ├\n",
      "«      └───┘ └──────┘\n",
      "Operator([[ 1.-0.j, -0.-0.j, -0.+0.j, -0.+0.j,  0.+0.j,  0.+0.j,  0.+0.j,\n",
      "            0.+0.j],\n",
      "          [ 0.-0.j,  1.-0.j,  0.-0.j, -0.+0.j,  0.+0.j,  0.+0.j,  0.+0.j,\n",
      "            0.+0.j],\n",
      "          [ 0.+0.j, -0.-0.j,  1.-0.j,  0.+0.j,  0.+0.j,  0.+0.j,  0.+0.j,\n",
      "            0.+0.j],\n",
      "          [ 0.+0.j,  0.+0.j, -0.-0.j,  1.-0.j,  0.+0.j,  0.+0.j,  0.+0.j,\n",
      "            0.+0.j],\n",
      "          [-0.+0.j, -0.+0.j, -0.+0.j, -0.+0.j,  1.-0.j,  0.-0.j, -0.-0.j,\n",
      "           -0.-0.j],\n",
      "          [-0.+0.j, -0.+0.j, -0.+0.j, -0.+0.j, -0.-0.j,  1.-0.j, -0.-0.j,\n",
      "            0.+0.j],\n",
      "          [-0.+0.j, -0.+0.j, -0.+0.j, -0.+0.j,  0.-0.j,  0.-0.j,  0.-0.j,\n",
      "            1.-0.j],\n",
      "          [-0.+0.j, -0.+0.j, -0.+0.j, -0.+0.j, -0.+0.j,  0.-0.j,  1.-0.j,\n",
      "           -0.-0.j]],\n",
      "         input_dims=(2, 2, 2), output_dims=(2, 2, 2))\n"
     ]
    }
   ],
   "source": [
    "ccnot = qiskit.QuantumCircuit(3)\n",
    "ccnot.h(0)\n",
    "ccnot.append(syc_cnot, [0,1])\n",
    "ccnot.tdg(0)\n",
    "ccnot.append(syc_cnot, [0,2])\n",
    "ccnot.t(0)\n",
    "ccnot.append(syc_cnot, [0,1])\n",
    "ccnot.tdg(0)\n",
    "ccnot.barrier()\n",
    "ccnot.append(syc_cnot, [0,2])\n",
    "ccnot.t([1,0])\n",
    "ccnot.h(0)\n",
    "ccnot.append(syc_cnot, [1,2])\n",
    "ccnot.tdg(1)\n",
    "ccnot.t(2)\n",
    "ccnot.append(syc_cnot, [1,2])\n",
    "\n",
    "print(ccnot)\n",
    "\n",
    "job = qiskit.execute(ccnot, backend, shots=8192)\n",
    "result = job.result()\n",
    "\n",
    "print(result.get_unitary(ccnot,3))"
   ]
  },
  {
   "cell_type": "markdown",
   "metadata": {},
   "source": [
    "## From the paper and circuit above, we can see that it is possible to decompose a CCNOT gate using 6 CNOT gates, bringing our total Sycamore gate count to 36."
   ]
  },
  {
   "cell_type": "code",
   "execution_count": null,
   "metadata": {},
   "outputs": [],
   "source": []
  }
 ],
 "metadata": {
  "kernelspec": {
   "display_name": "Python 3",
   "language": "python",
   "name": "python3"
  },
  "language_info": {
   "codemirror_mode": {
    "name": "ipython",
    "version": 3
   },
   "file_extension": ".py",
   "mimetype": "text/x-python",
   "name": "python",
   "nbconvert_exporter": "python",
   "pygments_lexer": "ipython3",
   "version": "3.8.3"
  },
  "vscode": {
   "interpreter": {
    "hash": "1870f1194fb5b3d43b6d32e845741389586dbe9c4e1e45e17e0f6602cfe22778"
   }
  }
 },
 "nbformat": 4,
 "nbformat_minor": 4
}
